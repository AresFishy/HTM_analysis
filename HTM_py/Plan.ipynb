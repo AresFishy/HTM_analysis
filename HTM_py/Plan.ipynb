{
 "cells": [
  {
   "cell_type": "markdown",
   "metadata": {},
   "source": [
    "## Focus:\n",
    "\n",
    "* Reproduce \n",
    "\n",
    "* Find more sexy shit\n",
    "\n",
    "### If you can't find more shit within ~2 weeks, just focus on grinding out the stuff that's already there :)"
   ]
  },
  {
   "cell_type": "markdown",
   "metadata": {},
   "source": [
    "## To do:\n",
    "\n",
    "### Major\n",
    "\n",
    "* Reproduce all the figures :)\n",
    "\n",
    "* Zoo of IEG measures and associated effects\n",
    "\n",
    "* See what else is there\n",
    "\n",
    "* <font color=\"orange\">IEG vs tone response by timepoint</font>\n",
    "\n",
    "### Minor\n",
    "\n",
    "* Have a quick look at ways to correct for bias due to decreasing fluorescence by z-layer\n",
    "\n",
    "### Artefacts:\n",
    "\n",
    "* There seem to be several artefacts. Should look at the distribution of 'normal' activity onsets and set a reasonable threshold for discarding artefacts by onset (can be absolute or a percentile relative to the experiment distribution)"
   ]
  },
  {
   "cell_type": "markdown",
   "metadata": {},
   "source": [
    "### Activity variability as a function of IEG expression\n",
    "\n",
    "IEG levels don't really seem to correlate with mean or max activity, but maybe they do with changes in activity\n",
    "\n",
    "\n",
    "\n",
    "### What interesting things can we say about CA1 in this task?\n",
    "\n",
    "* Is there a lot of activity? Does the activity start \"looking like\" task activity (i.e. constant predictions of e.g. a grating that signifies a new trial)\n",
    "\n",
    "    * How much of a problem is the ISI in this?\n",
    "    \n",
    "* How separable is the activity?\n",
    "\n",
    "### What do IEG levels tell us about how well the animal has learnt the task?\n",
    "\n"
   ]
  },
  {
   "cell_type": "code",
   "execution_count": null,
   "metadata": {},
   "outputs": [],
   "source": []
  }
 ],
 "metadata": {
  "kernelspec": {
   "display_name": "Python 3",
   "language": "python",
   "name": "python3"
  },
  "language_info": {
   "codemirror_mode": {
    "name": "ipython",
    "version": 3
   },
   "file_extension": ".py",
   "mimetype": "text/x-python",
   "name": "python",
   "nbconvert_exporter": "python",
   "pygments_lexer": "ipython3",
   "version": "3.6.5"
  }
 },
 "nbformat": 4,
 "nbformat_minor": 2
}
