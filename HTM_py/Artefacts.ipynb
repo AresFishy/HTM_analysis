{
 "cells": [
  {
   "cell_type": "code",
   "execution_count": null,
   "metadata": {},
   "outputs": [],
   "source": [
    "%load_ext autoreload\n",
    "%autoreload 2\n",
    "from util import *\n",
    "from ArcExpression import get_Arc_expression, normalize_Arc, normalize_IEG\n",
    "\n",
    "from scipy import stats\n",
    "import numpy as np\n",
    "from IPython.core.pylabtools import figsize\n",
    "import matplotlib.pyplot as plt\n",
    "import seaborn as sns\n",
    "\n",
    "import warnings\n",
    "warnings.filterwarnings(\"ignore\")\n",
    "\n",
    "%matplotlib inline"
   ]
  },
  {
   "cell_type": "code",
   "execution_count": null,
   "metadata": {},
   "outputs": [],
   "source": [
    "proj_meta = load_meta()"
   ]
  },
  {
   "cell_type": "markdown",
   "metadata": {},
   "source": [
    "## Movement artefacts"
   ]
  },
  {
   "cell_type": "code",
   "execution_count": null,
   "metadata": {},
   "outputs": [],
   "source": [
    "tmp = act_responses(proj_meta, 2, 13, \"ToneID\", 20, 80)\n",
    "tmp = mean_subtract(tmp, 10,19)\n",
    "tmpdiff = np.diff(np.mean(tmp, axis=1))\n",
    "\n",
    "sns.distplot(np.abs(np.mean(tmpdiff[:, 20:21], axis=1)), bins=100, kde=False)"
   ]
  },
  {
   "cell_type": "code",
   "execution_count": null,
   "metadata": {},
   "outputs": [],
   "source": [
    "plt.figure(figsize=(12,5))\n",
    "plt.subplot(1,2,1)\n",
    "plt.plot((np.mean(tmp, axis=1)).T);\n",
    "plt.subplot(1,2,2)\n",
    "plt.plot(np.diff(np.mean(tmp, axis=1)).T);\n"
   ]
  },
  {
   "cell_type": "code",
   "execution_count": null,
   "metadata": {},
   "outputs": [],
   "source": [
    "plt.plot(proj_meta[8][\"pupil_posR\"][0][13].T);"
   ]
  },
  {
   "cell_type": "markdown",
   "metadata": {},
   "source": [
    "## Light leak"
   ]
  },
  {
   "cell_type": "code",
   "execution_count": null,
   "metadata": {},
   "outputs": [],
   "source": [
    "tps = [5, 11]\n",
    "for ind in range(2):\n",
    "    grat_resps = np.vstack([np.mean(mean_subtract(act_responses(proj_meta, site, \n",
    "                           tps[ind], \"GratID\",\n",
    "                           20, 80), 10, 19), axis=1) for site in range(9)])\n",
    "    plt.plot(np.mean(grat_resps, axis=0))"
   ]
  }
 ],
 "metadata": {
  "kernelspec": {
   "display_name": "Python 3",
   "language": "python",
   "name": "python3"
  },
  "language_info": {
   "codemirror_mode": {
    "name": "ipython",
    "version": 3
   },
   "file_extension": ".py",
   "mimetype": "text/x-python",
   "name": "python",
   "nbconvert_exporter": "python",
   "pygments_lexer": "ipython3",
   "version": "3.6.5"
  }
 },
 "nbformat": 4,
 "nbformat_minor": 2
}
